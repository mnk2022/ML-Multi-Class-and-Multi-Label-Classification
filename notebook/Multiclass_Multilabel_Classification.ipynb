{
 "cells": [
  {
   "cell_type": "markdown",
   "id": "31a95fa3",
   "metadata": {},
   "source": [
    "# Multi-class and Multi-Label Classification\n"
   ]
  },
  {
   "cell_type": "markdown",
   "id": "9d62c386",
   "metadata": {},
   "source": [
    "\n",
    "Each instance in the Anuran Calls Data has three labels: Families, Genus, and Species. \n",
    "\n",
    "Each of the labels has multiple classes. We wish to solve a multi-class and multi-label problem. One of the most important approaches to multi-label classification is to train a classifier for each label (binary relevance).\n",
    "\n",
    "We will use SVM and K-Means Clustering techniques to perform the classification."
   ]
  },
  {
   "cell_type": "markdown",
   "id": "251c468e",
   "metadata": {},
   "source": [
    "## Importing necessary packages"
   ]
  },
  {
   "cell_type": "code",
   "execution_count": 2,
   "id": "9df810c3",
   "metadata": {},
   "outputs": [
    {
     "name": "stderr",
     "output_type": "stream",
     "text": [
      "<frozen importlib._bootstrap>:219: RuntimeWarning: scipy._lib.messagestream.MessageStream size changed, may indicate binary incompatibility. Expected 56 from C header, got 64 from PyObject\n"
     ]
    }
   ],
   "source": [
    "import numpy as np\n",
    "import pandas as pd\n",
    "import matplotlib.pyplot as plt\n",
    "import seaborn as sns\n",
    "\n",
    "from sklearn.model_selection import train_test_split\n",
    "from sklearn.metrics import hamming_loss, accuracy_score\n",
    "from sklearn.multiclass import OneVsRestClassifier\n",
    "from sklearn.svm import SVC\n",
    "from sklearn.model_selection import GridSearchCV\n",
    "from sklearn.preprocessing import StandardScaler\n",
    "from sklearn.svm import LinearSVC\n",
    "\n",
    "from sklearn.cluster import KMeans\n",
    "from sklearn.metrics import silhouette_score\n",
    "\n",
    "# Package to ignore warnings\n",
    "import warnings\n",
    "warnings.filterwarnings('ignore')"
   ]
  },
  {
   "cell_type": "markdown",
   "id": "907c4a02",
   "metadata": {},
   "source": [
    "## UDFs"
   ]
  },
  {
   "cell_type": "code",
   "execution_count": 3,
   "id": "515c0af4",
   "metadata": {},
   "outputs": [],
   "source": [
    "def svc_ideal_parameters(traindata_X,traindata_y):\n",
    "\n",
    "    '''This function helps to obtain the macximum and minimum range parameter values namely c & gamma in the \n",
    "    support vector cassifier to achieve an accuracy of atleast 70% \n",
    "    Input parameters:\n",
    "        1. X train dataset\n",
    "        2. y train dataset\n",
    "    '''\n",
    "    \n",
    "    # Log space for very large and very small parameters\n",
    "    logspace = np.logspace(-5,6,6)\n",
    "\n",
    "    # Gaussian kernal inputs with linear variation\n",
    "    linspace = np.linspace(0.01,2.5,10)\n",
    "\n",
    "    c_list = []\n",
    "    gamma_list = []\n",
    "\n",
    "    for log in logspace:\n",
    "        for lin in linspace:\n",
    "            model_svm = SVC(C = log, gamma = lin)\n",
    "            model_svm.fit(traindata_X,traindata_y)\n",
    "            y_pred = model_svm.predict(X_train)\n",
    "\n",
    "            if accuracy_score(y_pred,traindata_y) >= 0.7: # Filtering for parameters resulting in accuracy of atleast 0.7\n",
    "                c_list.append(log)\n",
    "                gamma_list.append(lin)\n",
    "    \n",
    "    return(round(min(c_list),3),round(max(c_list),3),round(min(gamma_list),3),round(max(gamma_list),3))"
   ]
  },
  {
   "cell_type": "markdown",
   "id": "d6eaa6f7",
   "metadata": {},
   "source": [
    "# Question 1"
   ]
  },
  {
   "cell_type": "markdown",
   "id": "f415d241",
   "metadata": {},
   "source": [
    "## a) Download the Anuran Calls (MFCCs) Data Set from: https://archive.ics.uci.edu/ml/datasets/Anuran+Calls+%28MFCCs%29. Choose 70% of the data randomly as the training set."
   ]
  },
  {
   "cell_type": "code",
   "execution_count": 4,
   "id": "57f339d8",
   "metadata": {},
   "outputs": [],
   "source": [
    "frogs_data = pd.read_csv('../data/Frogs_MFCCs.csv')"
   ]
  },
  {
   "cell_type": "code",
   "execution_count": 5,
   "id": "80790964",
   "metadata": {},
   "outputs": [
    {
     "data": {
      "text/plain": [
       "(7195, 26)"
      ]
     },
     "execution_count": 5,
     "metadata": {},
     "output_type": "execute_result"
    }
   ],
   "source": [
    "frogs_data.shape"
   ]
  },
  {
   "cell_type": "code",
   "execution_count": 6,
   "id": "f8b895d0",
   "metadata": {},
   "outputs": [
    {
     "data": {
      "text/html": [
       "<div>\n",
       "<style scoped>\n",
       "    .dataframe tbody tr th:only-of-type {\n",
       "        vertical-align: middle;\n",
       "    }\n",
       "\n",
       "    .dataframe tbody tr th {\n",
       "        vertical-align: top;\n",
       "    }\n",
       "\n",
       "    .dataframe thead th {\n",
       "        text-align: right;\n",
       "    }\n",
       "</style>\n",
       "<table border=\"1\" class=\"dataframe\">\n",
       "  <thead>\n",
       "    <tr style=\"text-align: right;\">\n",
       "      <th></th>\n",
       "      <th>MFCCs_ 1</th>\n",
       "      <th>MFCCs_ 2</th>\n",
       "      <th>MFCCs_ 3</th>\n",
       "      <th>MFCCs_ 4</th>\n",
       "      <th>MFCCs_ 5</th>\n",
       "      <th>MFCCs_ 6</th>\n",
       "      <th>MFCCs_ 7</th>\n",
       "      <th>MFCCs_ 8</th>\n",
       "      <th>MFCCs_ 9</th>\n",
       "      <th>MFCCs_10</th>\n",
       "      <th>...</th>\n",
       "      <th>MFCCs_17</th>\n",
       "      <th>MFCCs_18</th>\n",
       "      <th>MFCCs_19</th>\n",
       "      <th>MFCCs_20</th>\n",
       "      <th>MFCCs_21</th>\n",
       "      <th>MFCCs_22</th>\n",
       "      <th>Family</th>\n",
       "      <th>Genus</th>\n",
       "      <th>Species</th>\n",
       "      <th>RecordID</th>\n",
       "    </tr>\n",
       "  </thead>\n",
       "  <tbody>\n",
       "    <tr>\n",
       "      <th>7193</th>\n",
       "      <td>1.0</td>\n",
       "      <td>-0.519497</td>\n",
       "      <td>-0.307553</td>\n",
       "      <td>-0.004922</td>\n",
       "      <td>0.072865</td>\n",
       "      <td>0.377131</td>\n",
       "      <td>0.086866</td>\n",
       "      <td>-0.115799</td>\n",
       "      <td>0.056979</td>\n",
       "      <td>0.089316</td>\n",
       "      <td>...</td>\n",
       "      <td>0.051796</td>\n",
       "      <td>0.069073</td>\n",
       "      <td>0.017963</td>\n",
       "      <td>0.041803</td>\n",
       "      <td>-0.027911</td>\n",
       "      <td>-0.096895</td>\n",
       "      <td>Hylidae</td>\n",
       "      <td>Scinax</td>\n",
       "      <td>ScinaxRuber</td>\n",
       "      <td>60</td>\n",
       "    </tr>\n",
       "    <tr>\n",
       "      <th>7194</th>\n",
       "      <td>1.0</td>\n",
       "      <td>-0.508833</td>\n",
       "      <td>-0.324106</td>\n",
       "      <td>0.062068</td>\n",
       "      <td>0.078211</td>\n",
       "      <td>0.397188</td>\n",
       "      <td>0.094596</td>\n",
       "      <td>-0.117672</td>\n",
       "      <td>0.058874</td>\n",
       "      <td>0.076180</td>\n",
       "      <td>...</td>\n",
       "      <td>0.061455</td>\n",
       "      <td>0.072983</td>\n",
       "      <td>-0.003980</td>\n",
       "      <td>0.031560</td>\n",
       "      <td>-0.029355</td>\n",
       "      <td>-0.087910</td>\n",
       "      <td>Hylidae</td>\n",
       "      <td>Scinax</td>\n",
       "      <td>ScinaxRuber</td>\n",
       "      <td>60</td>\n",
       "    </tr>\n",
       "  </tbody>\n",
       "</table>\n",
       "<p>2 rows × 26 columns</p>\n",
       "</div>"
      ],
      "text/plain": [
       "      MFCCs_ 1  MFCCs_ 2  MFCCs_ 3  MFCCs_ 4  MFCCs_ 5  MFCCs_ 6  MFCCs_ 7  \\\n",
       "7193       1.0 -0.519497 -0.307553 -0.004922  0.072865  0.377131  0.086866   \n",
       "7194       1.0 -0.508833 -0.324106  0.062068  0.078211  0.397188  0.094596   \n",
       "\n",
       "      MFCCs_ 8  MFCCs_ 9  MFCCs_10  ...  MFCCs_17  MFCCs_18  MFCCs_19  \\\n",
       "7193 -0.115799  0.056979  0.089316  ...  0.051796  0.069073  0.017963   \n",
       "7194 -0.117672  0.058874  0.076180  ...  0.061455  0.072983 -0.003980   \n",
       "\n",
       "      MFCCs_20  MFCCs_21  MFCCs_22   Family   Genus      Species  RecordID  \n",
       "7193  0.041803 -0.027911 -0.096895  Hylidae  Scinax  ScinaxRuber        60  \n",
       "7194  0.031560 -0.029355 -0.087910  Hylidae  Scinax  ScinaxRuber        60  \n",
       "\n",
       "[2 rows x 26 columns]"
      ]
     },
     "execution_count": 6,
     "metadata": {},
     "output_type": "execute_result"
    }
   ],
   "source": [
    "frogs_data.tail(2)"
   ]
  },
  {
   "cell_type": "code",
   "execution_count": 7,
   "id": "f9fc4552",
   "metadata": {},
   "outputs": [],
   "source": [
    "# Splitting data into train & test in 70:30 ratio randomly\n",
    "\n",
    "X_train, X_test, y_train, y_test = train_test_split(frogs_data.drop(['Family','Genus','Species'], axis=1), \n",
    "                                                    frogs_data[['Family','Genus','Species']],\n",
    "                                                    test_size=0.3, \n",
    "                                                    random_state = 198)"
   ]
  },
  {
   "cell_type": "markdown",
   "id": "d091f1e9",
   "metadata": {},
   "source": [
    "## b)"
   ]
  },
  {
   "cell_type": "markdown",
   "id": "6e552d29",
   "metadata": {},
   "source": [
    "### i) Research exact match and hamming score/ loss methods for evaluating multi- label classification and use them in evaluating the classifiers in this problem."
   ]
  },
  {
   "cell_type": "markdown",
   "id": "ca1f272f",
   "metadata": {},
   "source": [
    "1. Exact Match Ratio: It is a metric to evaluate model performance in multi-class variables, which indicates the percentage of samples which have all of their labels correctly classified. It is a strict metric as it counts only when the model correctly identifies all the labels without any false positives. It can be though of as an extension of the accuracy metric in multi-label classification problems\n",
    "\n",
    "\n",
    "2. Hamming Loss: It is the ratio of the number of wrong labels to the total number of labels. It can be interpreted as the fraction of labels which are wrongly predicted by the model. It can be thought of as, an extension to false positive ratio and false negative ratio"
   ]
  },
  {
   "cell_type": "markdown",
   "id": "24a8d49a",
   "metadata": {},
   "source": [
    "### ii) Train a SVM for each of the labels, using Gaussian kernels and one versus all classifiers. Determine the weight of the SVM penalty and the width of the Gaussian Kernel using 10 fold cross validation. You are welcome to try to solve the problem with both standardized and raw attributes and report the results."
   ]
  },
  {
   "cell_type": "markdown",
   "id": "982707ee",
   "metadata": {},
   "source": [
    "#### Training SVM for each Label: Raw Attributes, one vs rest clasifier"
   ]
  },
  {
   "cell_type": "markdown",
   "id": "d2df81ec",
   "metadata": {},
   "source": [
    "1. Family"
   ]
  },
  {
   "cell_type": "code",
   "execution_count": 124,
   "id": "f4da66c2",
   "metadata": {
    "scrolled": true
   },
   "outputs": [
    {
     "data": {
      "text/plain": [
       "(0.002, 1000000.0, 0.01, 2.5)"
      ]
     },
     "execution_count": 124,
     "metadata": {},
     "output_type": "execute_result"
    }
   ],
   "source": [
    "# Obtaining minimum and maximum range values for parameters\n",
    "svc_ideal_parameters(X_train,y_train['Family'])"
   ]
  },
  {
   "cell_type": "code",
   "execution_count": 126,
   "id": "fc0933e4",
   "metadata": {},
   "outputs": [
    {
     "name": "stdout",
     "output_type": "stream",
     "text": [
      "Family: \n",
      "\n",
      "Exact Match Ratio: 0.9995\n",
      "Hamming Loss: 0.0005\n"
     ]
    }
   ],
   "source": [
    "penalty_param = list(np.logspace(-3,6,8))\n",
    "gaussian_param = list(np.linspace(0.01,2.5,8))\n",
    "\n",
    "ovr_clf = OneVsRestClassifier(SVC())\n",
    "svm_clf_family = GridSearchCV(ovr_clf, \n",
    "                       param_grid={'estimator__kernel': ['rbf'], 'estimator__C': gaussian_param, 'estimator__gamma': penalty_param}, \n",
    "                       cv=10)\n",
    "\n",
    "svm_clf_family.fit(X_train, y_train['Family'])\n",
    "\n",
    "y_pred_test_family = svm_clf_family.predict(X_test)\n",
    "EMR_family_raw = accuracy_score(y_pred_test_family, y_test['Family'])\n",
    "HL_family_raw = hamming_loss(y_pred_test_family, y_test['Family'])\n",
    "\n",
    "print('Family: \\n')\n",
    "print(f'Exact Match Ratio: {round(EMR_family_raw,4)}')\n",
    "print(f'Hamming Loss: {round(HL_family_raw,4)}')"
   ]
  },
  {
   "cell_type": "markdown",
   "id": "d2c81594",
   "metadata": {},
   "source": [
    "2. Genus"
   ]
  },
  {
   "cell_type": "code",
   "execution_count": 127,
   "id": "8d12cdde",
   "metadata": {},
   "outputs": [
    {
     "data": {
      "text/plain": [
       "(0.002, 1000000.0, 0.01, 2.5)"
      ]
     },
     "execution_count": 127,
     "metadata": {},
     "output_type": "execute_result"
    }
   ],
   "source": [
    "# Obtaining minimum and maximum range values for parameters\n",
    "svc_ideal_parameters(X_train,y_train['Genus'])"
   ]
  },
  {
   "cell_type": "code",
   "execution_count": 129,
   "id": "d7698c45",
   "metadata": {},
   "outputs": [
    {
     "name": "stdout",
     "output_type": "stream",
     "text": [
      "Genus: \n",
      "\n",
      "Exact Match Ratio: 0.9995\n",
      "Hamming Loss: 0.0005\n"
     ]
    }
   ],
   "source": [
    "penalty_param = list(np.logspace(-3,6,8))\n",
    "gaussian_param = list(np.linspace(0.01,2.5,8))\n",
    "\n",
    "ovr_clf = OneVsRestClassifier(SVC())\n",
    "svm_clf_genus = GridSearchCV(ovr_clf, \n",
    "                       param_grid={'estimator__kernel': ['rbf'], 'estimator__C': gaussian_param, 'estimator__gamma': penalty_param}, \n",
    "                       cv=10)\n",
    "\n",
    "svm_clf_genus.fit(X_train, y_train['Genus'])\n",
    "\n",
    "y_pred_test_genus = svm_clf_genus.predict(X_test)\n",
    "EMR_genus_raw = accuracy_score(y_pred_test_genus, y_test['Genus'])\n",
    "HL_genus_raw = hamming_loss(y_pred_test_genus, y_test['Genus'])\n",
    "\n",
    "print('Genus: \\n')\n",
    "print(f'Exact Match Ratio: {round(EMR_genus_raw,4)}')\n",
    "print(f'Hamming Loss: {round(HL_genus_raw,4)}')"
   ]
  },
  {
   "cell_type": "markdown",
   "id": "36187037",
   "metadata": {},
   "source": [
    "3. Species"
   ]
  },
  {
   "cell_type": "code",
   "execution_count": 128,
   "id": "1739efbe",
   "metadata": {},
   "outputs": [
    {
     "data": {
      "text/plain": [
       "(0.251, 1000000.0, 0.01, 2.5)"
      ]
     },
     "execution_count": 128,
     "metadata": {},
     "output_type": "execute_result"
    }
   ],
   "source": [
    "# Obtaining minimum and maximum range values for parameters\n",
    "svc_ideal_parameters(X_train,y_train['Species'])"
   ]
  },
  {
   "cell_type": "code",
   "execution_count": 306,
   "id": "4537c8cb",
   "metadata": {},
   "outputs": [
    {
     "name": "stdout",
     "output_type": "stream",
     "text": [
      "Species: \n",
      "\n",
      "Exact Match Ratio: 0.9995\n",
      "Hamming Loss: 0.005\n"
     ]
    }
   ],
   "source": [
    "penalty_param = list(np.logspace(-1,6,8))\n",
    "gaussian_param = list(np.linspace(0.01,2.5,10))\n",
    "\n",
    "ovr_clf = OneVsRestClassifier(SVC())\n",
    "svm_clf_species = GridSearchCV(ovr_clf, \n",
    "                       param_grid={'estimator__kernel': ['rbf'], 'estimator__C': gaussian_param, 'estimator__gamma': penalty_param}, \n",
    "                       cv=10)\n",
    "\n",
    "svm_clf_species.fit(X_train, y_train['Species'])\n",
    "\n",
    "y_pred_test_species = svm_clf_species.predict(X_test)\n",
    "EMR_species_raw = accuracy_score(y_pred_test_species, y_test['Species'])\n",
    "HL_species_raw = hamming_loss(y_pred_test_species, y_test['Species'])\n",
    "\n",
    "print('Species: \\n')\n",
    "print(f'Exact Match Ratio: {round(EMR_species_raw,4)}')\n",
    "print(f'Hamming Loss: {round(HL_species_raw,4)}')"
   ]
  },
  {
   "cell_type": "markdown",
   "id": "2955cbc2",
   "metadata": {},
   "source": [
    "#### Training SVM for each Label: Standardized Attributes, one vs rest clasifier"
   ]
  },
  {
   "cell_type": "markdown",
   "id": "de6b768a",
   "metadata": {},
   "source": [
    "Standardizing attributes using sklearn standard scalar "
   ]
  },
  {
   "cell_type": "code",
   "execution_count": 275,
   "id": "9abd8a5c",
   "metadata": {},
   "outputs": [],
   "source": [
    "standarization = StandardScaler()\n",
    "\n",
    "# Train data\n",
    "train_std = standarization.fit(X_train)\n",
    "X_train_trf = train_std.transform(X_train)\n",
    "\n",
    "# Test data\n",
    "test_std = standarization.fit(X_test)\n",
    "X_test_trf = train_std.transform(X_test)\n"
   ]
  },
  {
   "cell_type": "markdown",
   "id": "51535f80",
   "metadata": {},
   "source": [
    "1. Family"
   ]
  },
  {
   "cell_type": "code",
   "execution_count": 276,
   "id": "f1db2b09",
   "metadata": {},
   "outputs": [
    {
     "name": "stdout",
     "output_type": "stream",
     "text": [
      "Family: \n",
      "\n",
      "Exact Match Ratio: 0.9907\n",
      "Hamming Loss: 0.0093\n"
     ]
    }
   ],
   "source": [
    "penalty_param = list(np.logspace(-2,6,8))\n",
    "gaussian_param = list(np.linspace(0.01,2.5,10))\n",
    "\n",
    "ovr_clf = OneVsRestClassifier(SVC())\n",
    "svm_clf_family_trf = GridSearchCV(ovr_clf, \n",
    "                       param_grid={'estimator__kernel': ['rbf'], 'estimator__C': gaussian_param, 'estimator__gamma': penalty_param}, \n",
    "                       cv=10)\n",
    "\n",
    "svm_clf_family_trf.fit(X_train_trf, y_train['Family'])\n",
    "\n",
    "y_pred_test_family = svm_clf_family_trf.predict(X_test_trf)\n",
    "EMR_family_std = accuracy_score(y_pred_test_family, y_test['Family'])\n",
    "HL_family_std = hamming_loss(y_pred_test_family, y_test['Family'])\n",
    "\n",
    "print('Family: \\n')\n",
    "print(f'Exact Match Ratio: {round(EMR_family_std,4)}')\n",
    "print(f'Hamming Loss: {round(HL_family_std,4)}')"
   ]
  },
  {
   "cell_type": "markdown",
   "id": "784bdd89",
   "metadata": {},
   "source": [
    "2. Genus"
   ]
  },
  {
   "cell_type": "code",
   "execution_count": 307,
   "id": "89cb8784",
   "metadata": {},
   "outputs": [
    {
     "name": "stdout",
     "output_type": "stream",
     "text": [
      "Genus: \n",
      "\n",
      "Exact Match Ratio: 0.9907\n",
      "Hamming Loss: 0.0093\n"
     ]
    }
   ],
   "source": [
    "penalty_param = list(np.logspace(-2,6,8))\n",
    "gaussian_param = list(np.linspace(0.01,2.5,10))\n",
    "\n",
    "ovr_clf = OneVsRestClassifier(SVC())\n",
    "svm_clf_genus_trf = GridSearchCV(ovr_clf, \n",
    "                       param_grid={'estimator__kernel': ['rbf'], 'estimator__C': gaussian_param, 'estimator__gamma': penalty_param}, \n",
    "                       cv=10)\n",
    "\n",
    "svm_clf_genus_trf.fit(X_train_trf, y_train['Genus'])\n",
    "\n",
    "y_pred_test_genus = svm_clf_genus_trf.predict(X_test_trf)\n",
    "EMR_genus_std = accuracy_score(y_pred_test_genus, y_test['Genus'])\n",
    "HL_genus_std = hamming_loss(y_pred_test_genus, y_test['Genus'])\n",
    "\n",
    "print('Genus: \\n')\n",
    "print(f'Exact Match Ratio: {round(EMR_genus_std,4)}')\n",
    "print(f'Hamming Loss: {round(HL_genus_std,4)}')"
   ]
  },
  {
   "cell_type": "markdown",
   "id": "76f28ae3",
   "metadata": {},
   "source": [
    "3. Species"
   ]
  },
  {
   "cell_type": "code",
   "execution_count": 308,
   "id": "b4f6cebf",
   "metadata": {},
   "outputs": [
    {
     "name": "stdout",
     "output_type": "stream",
     "text": [
      "Species: \n",
      "\n",
      "Exact Match Ratio: 0.9907\n",
      "Hamming Loss: 0.0093\n"
     ]
    }
   ],
   "source": [
    "penalty_param = list(np.logspace(-2,6,8))\n",
    "gaussian_param = list(np.linspace(0.01,2.5,10))\n",
    "\n",
    "ovr_clf = OneVsRestClassifier(SVC())\n",
    "svm_clf_species_trf = GridSearchCV(ovr_clf, \n",
    "                       param_grid={'estimator__kernel': ['rbf'], 'estimator__C': gaussian_param, 'estimator__gamma': penalty_param}, \n",
    "                       cv=10)\n",
    "\n",
    "svm_clf_species_trf.fit(X_train_trf, y_train['Species'])\n",
    "\n",
    "y_pred_test_species = svm_clf_species_trf.predict(X_test_trf)\n",
    "EMR_species_std = accuracy_score(y_pred_test_species, y_test['Species'])\n",
    "HL_species_std = hamming_loss(y_pred_test_species, y_test['Species'])\n",
    "\n",
    "print('Species: \\n')\n",
    "print(f'Exact Match Ratio: {round(EMR_species_std,4)}')\n",
    "print(f'Hamming Loss: {round(HL_species_std,4)}')"
   ]
  },
  {
   "cell_type": "markdown",
   "id": "b42219cb",
   "metadata": {},
   "source": [
    "### iii) L1-penalized SVMs, 10 fold CV"
   ]
  },
  {
   "cell_type": "code",
   "execution_count": 293,
   "id": "78faf594",
   "metadata": {},
   "outputs": [],
   "source": [
    "reg_l1_svm = LinearSVC(penalty='l1', loss=\"squared_hinge\", dual=False) #Using default values from sklearn example\n",
    "reg_l1_svm = GridSearchCV(estimator=reg_l1_svm, param_grid={'C': np.logspace(-2,6,8)} ,cv=10)"
   ]
  },
  {
   "cell_type": "markdown",
   "id": "bad31d2b",
   "metadata": {},
   "source": [
    "1. Family"
   ]
  },
  {
   "cell_type": "code",
   "execution_count": 294,
   "id": "31a1722c",
   "metadata": {
    "scrolled": true
   },
   "outputs": [
    {
     "name": "stdout",
     "output_type": "stream",
     "text": [
      "Family: \n",
      "\n",
      "Exact Match Ratio: 0.9629\n",
      "Hamming Loss: 0.0371\n"
     ]
    }
   ],
   "source": [
    "reg_l1_svm.fit(X_train_trf, y_train['Family'])\n",
    "y_pred_l1_test_family = reg_l1_svm.predict(X_test_trf)\n",
    "EMR_family_std = accuracy_score(y_pred_l1_test_family, y_test['Family'])\n",
    "HL_family_std = hamming_loss(y_pred_l1_test_family, y_test['Family'])\n",
    "\n",
    "print('Family: \\n')\n",
    "print(f'Exact Match Ratio: {round(EMR_family_std,4)}')\n",
    "print(f'Hamming Loss: {round(HL_family_std,4)}')"
   ]
  },
  {
   "cell_type": "markdown",
   "id": "c7ef43cb",
   "metadata": {},
   "source": [
    "2. Genus"
   ]
  },
  {
   "cell_type": "code",
   "execution_count": 295,
   "id": "97c4a07e",
   "metadata": {},
   "outputs": [
    {
     "name": "stdout",
     "output_type": "stream",
     "text": [
      "Genus: \n",
      "\n",
      "Exact Match Ratio: 0.9796\n",
      "Hamming Loss: 0.0204\n"
     ]
    }
   ],
   "source": [
    "reg_l1_svm.fit(X_train_trf, y_train['Genus'])\n",
    "y_pred_l1_test_genus = reg_l1_svm.predict(X_test_trf)\n",
    "EMR_genus_std = accuracy_score(y_pred_l1_test_genus, y_test['Genus'])\n",
    "HL_genus_std = hamming_loss(y_pred_l1_test_genus, y_test['Genus'])\n",
    "\n",
    "print('Genus: \\n')\n",
    "print(f'Exact Match Ratio: {round(EMR_genus_std,4)}')\n",
    "print(f'Hamming Loss: {round(HL_genus_std,4)}')"
   ]
  },
  {
   "cell_type": "markdown",
   "id": "16385150",
   "metadata": {},
   "source": [
    "3. Species"
   ]
  },
  {
   "cell_type": "code",
   "execution_count": 296,
   "id": "1e159d1b",
   "metadata": {},
   "outputs": [
    {
     "name": "stdout",
     "output_type": "stream",
     "text": [
      "Species: \n",
      "\n",
      "Exact Match Ratio: 0.9792\n",
      "Hamming Loss: 0.0208\n"
     ]
    }
   ],
   "source": [
    "reg_l1_svm.fit(X_train_trf, y_train['Species'])\n",
    "y_pred_l1_test_species = reg_l1_svm.predict(X_test_trf)\n",
    "EMR_species_std = accuracy_score(y_pred_l1_test_species, y_test['Species'])\n",
    "HL_species_std = hamming_loss(y_pred_l1_test_species, y_test['Species'])\n",
    "\n",
    "print('Species: \\n')\n",
    "print(f'Exact Match Ratio: {round(EMR_species_std,4)}')\n",
    "print(f'Hamming Loss: {round(HL_species_std,4)}')"
   ]
  },
  {
   "cell_type": "markdown",
   "id": "a13c84e2",
   "metadata": {},
   "source": [
    "### iv) L1 penalization using SMOTE"
   ]
  },
  {
   "cell_type": "code",
   "execution_count": 297,
   "id": "b681c5c7",
   "metadata": {},
   "outputs": [],
   "source": [
    "# Balancing the dataset using smote\n",
    "sm = SMOTE()"
   ]
  },
  {
   "cell_type": "markdown",
   "id": "4a9018a4",
   "metadata": {},
   "source": [
    "1. Family"
   ]
  },
  {
   "cell_type": "code",
   "execution_count": 298,
   "id": "f2d0d3a3",
   "metadata": {},
   "outputs": [
    {
     "data": {
      "text/plain": [
       "Dendrobatidae      3082\n",
       "Bufonidae          3082\n",
       "Hylidae            3082\n",
       "Leptodactylidae    3082\n",
       "Name: Family, dtype: int64"
      ]
     },
     "execution_count": 298,
     "metadata": {},
     "output_type": "execute_result"
    }
   ],
   "source": [
    "sm_trainX_family, sm_trainY_family = sm.fit_resample(X_train_trf, y_train['Family'])\n",
    "sm_trainY_family.value_counts()"
   ]
  },
  {
   "cell_type": "code",
   "execution_count": 299,
   "id": "8ffe4f33",
   "metadata": {
    "scrolled": true
   },
   "outputs": [
    {
     "name": "stdout",
     "output_type": "stream",
     "text": [
      "Family: \n",
      "\n",
      "Exact Match Ratio: 0.9504\n",
      "Hamming Loss: 0.0496\n"
     ]
    }
   ],
   "source": [
    "reg_l1_svm.fit(sm_trainX_family, sm_trainY_family)\n",
    "y_pred_l1_test_family = reg_l1_svm.predict(X_test_trf)\n",
    "EMR_family_std_sm = accuracy_score(y_pred_l1_test_family, y_test['Family'])\n",
    "HL_family_std_sm = hamming_loss(y_pred_l1_test_family, y_test['Family'])\n",
    "\n",
    "print('Family: \\n')\n",
    "print(f'Exact Match Ratio: {round(EMR_family_std_sm,4)}')\n",
    "print(f'Hamming Loss: {round(HL_family_std_sm,4)}')"
   ]
  },
  {
   "cell_type": "markdown",
   "id": "c951eb16",
   "metadata": {},
   "source": [
    "2. Genus"
   ]
  },
  {
   "cell_type": "code",
   "execution_count": 300,
   "id": "bf9ea35b",
   "metadata": {},
   "outputs": [
    {
     "data": {
      "text/plain": [
       "Adenomera        2905\n",
       "Leptodactylus    2905\n",
       "Ameerega         2905\n",
       "Osteocephalus    2905\n",
       "Dendropsophus    2905\n",
       "Rhinella         2905\n",
       "Scinax           2905\n",
       "Hypsiboas        2905\n",
       "Name: Genus, dtype: int64"
      ]
     },
     "execution_count": 300,
     "metadata": {},
     "output_type": "execute_result"
    }
   ],
   "source": [
    "sm_trainX_genus, sm_trainY_genus = sm.fit_resample(X_train_trf, y_train['Genus'])\n",
    "sm_trainY_genus.value_counts()"
   ]
  },
  {
   "cell_type": "code",
   "execution_count": 301,
   "id": "013a3a2f",
   "metadata": {
    "scrolled": true
   },
   "outputs": [
    {
     "name": "stdout",
     "output_type": "stream",
     "text": [
      "Genus: \n",
      "\n",
      "Exact Match Ratio: 0.9833\n",
      "Hamming Loss: 0.0167\n"
     ]
    }
   ],
   "source": [
    "reg_l1_svm.fit(sm_trainX_genus, sm_trainY_genus)\n",
    "y_pred_l1_test_genus = reg_l1_svm.predict(X_test_trf)\n",
    "EMR_genus_std_sm = accuracy_score(y_pred_l1_test_genus, y_test['Genus'])\n",
    "HL_genus_std_sm = hamming_loss(y_pred_l1_test_genus, y_test['Genus'])\n",
    "\n",
    "print('Genus: \\n')\n",
    "print(f'Exact Match Ratio: {round(EMR_genus_std_sm,4)}')\n",
    "print(f'Hamming Loss: {round(HL_genus_std_sm,4)}')"
   ]
  },
  {
   "cell_type": "markdown",
   "id": "5dae781b",
   "metadata": {},
   "source": [
    "3. Species"
   ]
  },
  {
   "cell_type": "code",
   "execution_count": 302,
   "id": "6eee4d72",
   "metadata": {},
   "outputs": [
    {
     "data": {
      "text/plain": [
       "Ameeregatrivittata        2423\n",
       "AdenomeraAndre            2423\n",
       "HypsiboasCordobae         2423\n",
       "AdenomeraHylaedactylus    2423\n",
       "Rhinellagranulosa         2423\n",
       "ScinaxRuber               2423\n",
       "HypsiboasCinerascens      2423\n",
       "LeptodactylusFuscus       2423\n",
       "OsteocephalusOophagus     2423\n",
       "HylaMinuta                2423\n",
       "Name: Species, dtype: int64"
      ]
     },
     "execution_count": 302,
     "metadata": {},
     "output_type": "execute_result"
    }
   ],
   "source": [
    "sm_trainX_species, sm_trainY_species = sm.fit_resample(X_train_trf, y_train['Species'])\n",
    "sm_trainY_species.value_counts()"
   ]
  },
  {
   "cell_type": "code",
   "execution_count": 303,
   "id": "7b96a4c6",
   "metadata": {
    "scrolled": true
   },
   "outputs": [
    {
     "name": "stdout",
     "output_type": "stream",
     "text": [
      "Species: \n",
      "\n",
      "Exact Match Ratio: 0.981\n",
      "Hamming Loss: 0.019\n"
     ]
    }
   ],
   "source": [
    "reg_l1_svm.fit(sm_trainX_species, sm_trainY_species)\n",
    "y_pred_l1_test_species = reg_l1_svm.predict(X_test_trf)\n",
    "EMR_species_std_sm = accuracy_score(y_pred_l1_test_species, y_test['Species'])\n",
    "HL_species_std_sm = hamming_loss(y_pred_l1_test_species, y_test['Species'])\n",
    "\n",
    "print('Species: \\n')\n",
    "print(f'Exact Match Ratio: {round(EMR_species_std_sm,4)}')\n",
    "print(f'Hamming Loss: {round(HL_species_std_sm,4)}')"
   ]
  },
  {
   "cell_type": "markdown",
   "id": "56cee975",
   "metadata": {},
   "source": [
    "### Conclusions"
   ]
  },
  {
   "cell_type": "markdown",
   "id": "81710f5f",
   "metadata": {},
   "source": [
    "The average Hamming loss (across the 3 labels) for each of the following is:\n",
    "\n",
    "1. SVM with raw attributes: 0.005\n",
    "2. SVM with standardized attributes: 0.0093\n",
    "3. L1 penalized SVM: 0.0261\n",
    "4. L1 penalized SVM using SMOTE to eliminate data imbalance: 0.028\n",
    "\n",
    "Thus, the best classfier is SVM with raw attributes as it has the least Hamming loss."
   ]
  },
  {
   "cell_type": "markdown",
   "id": "e70a0724",
   "metadata": {},
   "source": [
    "### Q1 Sources"
   ]
  },
  {
   "cell_type": "markdown",
   "id": "ee9834dd",
   "metadata": {},
   "source": [
    "1. https://towardsdatascience.com/journey-to-the-center-of-multi-label-classification-384c40229bff\n",
    "2. https://peltarion.com/knowledge-center/documentation/evaluation-view/classification-loss-metrics/exact-match-ratio\n",
    "3. https://medium.datadriveninvestor.com/a-survey-of-evaluation-metrics-for-multilabel-classification-bb16e8cd41cd\n",
    "4. https://scikit-learn.org/stable/modules/generated/sklearn.metrics.hamming_loss.html\n",
    "5. https://scikit-learn.org/stable/modules/generated/sklearn.metrics.accuracy_score.html\n",
    "6. https://scikit-learn.org/stable/modules/generated/sklearn.model_selection.GridSearchCV.html#sklearn.model_selection.GridSearchCV\n",
    "7. https://scikit-learn.org/stable/modules/generated/sklearn.svm.SVC.html\n",
    "8. https://scikit-learn.org/stable/auto_examples/svm/plot_svm_kernels.html\n",
    "9. https://scikit-learn.org/stable/modules/generated/sklearn.multiclass.OneVsRestClassifier.html\n",
    "10. https://stackoverflow.com/questions/12632992/gridsearch-for-an-estimator-inside-a-onevsrestclassifier\n",
    "11. https://scikit-learn.org/stable/modules/generated/sklearn.preprocessing.StandardScaler.html\n",
    "12. https://scikit-learn.org/stable/auto_examples/svm/plot_svm_scale_c.html\n",
    "13. https://imbalanced-learn.org/stable/references/generated/imblearn.over_sampling.SMOTE.html"
   ]
  },
  {
   "cell_type": "markdown",
   "id": "34dfdbbf",
   "metadata": {},
   "source": [
    "# Question 2"
   ]
  },
  {
   "cell_type": "markdown",
   "id": "90be14b3",
   "metadata": {},
   "source": [
    "### (a) Use k-means clustering on the whole Anuran Calls (MFCCs) Data Set (do not split the data into train and test, as we are not performing supervised learning in this exercise). Choose k ∈ {1, 2, . . . , 50} automatically based on one of the methods provided in the slides (CH or Gap Statistics or scree plots or Silhouettes) or any other method you know.\n"
   ]
  },
  {
   "cell_type": "code",
   "execution_count": 135,
   "id": "e7db9e99",
   "metadata": {},
   "outputs": [],
   "source": [
    "# Creating copy of original dataframe\n",
    "frogs_data_kmeans = frogs_data.copy()\n",
    "\n",
    "# Filtering out labels and recordID\n",
    "frogs_data_kmeans.drop(['Family','Genus','Species','RecordID'],axis=1, inplace=True)"
   ]
  },
  {
   "cell_type": "code",
   "execution_count": 223,
   "id": "ec5036c8",
   "metadata": {
    "scrolled": true
   },
   "outputs": [
    {
     "name": "stdout",
     "output_type": "stream",
     "text": [
      "Ideal # clusters in iteration 1 is: 4\n",
      "Ideal # clusters in iteration 2 is: 4\n",
      "Ideal # clusters in iteration 3 is: 4\n",
      "Ideal # clusters in iteration 4 is: 4\n",
      "Ideal # clusters in iteration 5 is: 4\n",
      "Ideal # clusters in iteration 6 is: 4\n",
      "Ideal # clusters in iteration 7 is: 4\n",
      "Ideal # clusters in iteration 8 is: 4\n",
      "Ideal # clusters in iteration 9 is: 4\n",
      "Ideal # clusters in iteration 10 is: 4\n",
      "Ideal # clusters in iteration 11 is: 4\n",
      "Ideal # clusters in iteration 12 is: 4\n",
      "Ideal # clusters in iteration 13 is: 4\n",
      "Ideal # clusters in iteration 14 is: 4\n",
      "Ideal # clusters in iteration 15 is: 4\n",
      "Ideal # clusters in iteration 16 is: 4\n",
      "Ideal # clusters in iteration 17 is: 4\n",
      "Ideal # clusters in iteration 18 is: 4\n",
      "Ideal # clusters in iteration 19 is: 4\n",
      "Ideal # clusters in iteration 20 is: 4\n",
      "Ideal # clusters in iteration 21 is: 4\n",
      "Ideal # clusters in iteration 22 is: 4\n",
      "Ideal # clusters in iteration 23 is: 4\n",
      "Ideal # clusters in iteration 24 is: 4\n",
      "Ideal # clusters in iteration 25 is: 4\n",
      "Ideal # clusters in iteration 26 is: 4\n",
      "Ideal # clusters in iteration 27 is: 4\n",
      "Ideal # clusters in iteration 28 is: 4\n",
      "Ideal # clusters in iteration 29 is: 4\n",
      "Ideal # clusters in iteration 30 is: 4\n",
      "Ideal # clusters in iteration 31 is: 4\n",
      "Ideal # clusters in iteration 32 is: 4\n",
      "Ideal # clusters in iteration 33 is: 4\n",
      "Ideal # clusters in iteration 34 is: 4\n",
      "Ideal # clusters in iteration 35 is: 4\n",
      "Ideal # clusters in iteration 36 is: 4\n",
      "Ideal # clusters in iteration 37 is: 4\n",
      "Ideal # clusters in iteration 38 is: 4\n",
      "Ideal # clusters in iteration 39 is: 4\n",
      "Ideal # clusters in iteration 40 is: 4\n",
      "Ideal # clusters in iteration 41 is: 4\n",
      "Ideal # clusters in iteration 42 is: 4\n",
      "Ideal # clusters in iteration 43 is: 4\n",
      "Ideal # clusters in iteration 44 is: 4\n",
      "Ideal # clusters in iteration 45 is: 4\n",
      "Ideal # clusters in iteration 46 is: 4\n",
      "Ideal # clusters in iteration 47 is: 4\n",
      "Ideal # clusters in iteration 48 is: 4\n",
      "Ideal # clusters in iteration 49 is: 4\n",
      "Ideal # clusters in iteration 50 is: 4\n"
     ]
    }
   ],
   "source": [
    "# Identifying # clusters & running Monte-Carlo simulations for 50 times\n",
    "\n",
    "for iter in range(1, 51):\n",
    "    silhouette_score_list = []\n",
    "    clusters = []\n",
    "\n",
    "    for i in range(2,51):\n",
    "        kmeans_model = KMeans(n_clusters=i)\n",
    "        kmeans_model.fit(frogs_data_kmeans)\n",
    "        cluster_labels = kmeans_model.labels_\n",
    "\n",
    "        # collating silhouette score for each iteration to identify ideal # clusters\n",
    "        silhouette_score_list.append(silhouette_score(frogs_data_kmeans, cluster_labels))\n",
    "        clusters.append(i)\n",
    "\n",
    "    ideal_cluster_cnt = clusters[silhouette_score_list.index(max(silhouette_score_list))]\n",
    "    print(f'Ideal # clusters in iteration {iter} is: {ideal_cluster_cnt}')"
   ]
  },
  {
   "cell_type": "markdown",
   "id": "e2f1dc49",
   "metadata": {},
   "source": [
    "### (b) In each cluster, determine which family is the majority by reading the true labels. Repeat for genus and species.\n"
   ]
  },
  {
   "cell_type": "code",
   "execution_count": 254,
   "id": "42ae2aff",
   "metadata": {},
   "outputs": [],
   "source": [
    "# Droping the record column as it is redundant\n",
    "frogs_data_mc = frogs_data.drop(['RecordID'], axis=1)"
   ]
  },
  {
   "cell_type": "code",
   "execution_count": 222,
   "id": "108c5dc2",
   "metadata": {
    "scrolled": true
   },
   "outputs": [
    {
     "name": "stdout",
     "output_type": "stream",
     "text": [
      "Iteration # - Cluster ID: \tFamily \t\tGenus \t\tSpecies \n",
      "\n",
      "Iteration 1 - Cluster 0: \tLeptodactylidae \tAdenomera \tAdenomeraHylaedactylus\n",
      "Iteration 1 - Cluster 1: \tHylidae \tHypsiboas \tHypsiboasCordobae\n",
      "Iteration 1 - Cluster 2: \tDendrobatidae \tAmeerega \tAmeeregatrivittata\n",
      "Iteration 1 - Cluster 3: \tHylidae \tHypsiboas \tHypsiboasCinerascens\n",
      "Iteration 2 - Cluster 0: \tHylidae \tHypsiboas \tHypsiboasCordobae\n",
      "Iteration 2 - Cluster 1: \tLeptodactylidae \tAdenomera \tAdenomeraHylaedactylus\n",
      "Iteration 2 - Cluster 2: \tHylidae \tHypsiboas \tHypsiboasCinerascens\n",
      "Iteration 2 - Cluster 3: \tDendrobatidae \tAmeerega \tAmeeregatrivittata\n",
      "Iteration 3 - Cluster 0: \tLeptodactylidae \tAdenomera \tAdenomeraHylaedactylus\n",
      "Iteration 3 - Cluster 1: \tDendrobatidae \tAmeerega \tAmeeregatrivittata\n",
      "Iteration 3 - Cluster 2: \tHylidae \tHypsiboas \tHypsiboasCordobae\n",
      "Iteration 3 - Cluster 3: \tHylidae \tHypsiboas \tHypsiboasCinerascens\n",
      "Iteration 4 - Cluster 0: \tHylidae \tHypsiboas \tHypsiboasCinerascens\n",
      "Iteration 4 - Cluster 1: \tDendrobatidae \tAmeerega \tAmeeregatrivittata\n",
      "Iteration 4 - Cluster 2: \tLeptodactylidae \tAdenomera \tAdenomeraHylaedactylus\n",
      "Iteration 4 - Cluster 3: \tHylidae \tHypsiboas \tHypsiboasCordobae\n",
      "Iteration 5 - Cluster 0: \tHylidae \tHypsiboas \tHypsiboasCordobae\n",
      "Iteration 5 - Cluster 1: \tLeptodactylidae \tAdenomera \tAdenomeraHylaedactylus\n",
      "Iteration 5 - Cluster 2: \tHylidae \tHypsiboas \tHypsiboasCinerascens\n",
      "Iteration 5 - Cluster 3: \tDendrobatidae \tAmeerega \tAmeeregatrivittata\n",
      "Iteration 6 - Cluster 0: \tDendrobatidae \tAmeerega \tAmeeregatrivittata\n",
      "Iteration 6 - Cluster 1: \tLeptodactylidae \tAdenomera \tAdenomeraHylaedactylus\n",
      "Iteration 6 - Cluster 2: \tHylidae \tHypsiboas \tHypsiboasCordobae\n",
      "Iteration 6 - Cluster 3: \tHylidae \tHypsiboas \tHypsiboasCinerascens\n",
      "Iteration 7 - Cluster 0: \tLeptodactylidae \tAdenomera \tAdenomeraHylaedactylus\n",
      "Iteration 7 - Cluster 1: \tHylidae \tHypsiboas \tHypsiboasCordobae\n",
      "Iteration 7 - Cluster 2: \tDendrobatidae \tAmeerega \tAmeeregatrivittata\n",
      "Iteration 7 - Cluster 3: \tHylidae \tHypsiboas \tHypsiboasCinerascens\n",
      "Iteration 8 - Cluster 0: \tDendrobatidae \tAmeerega \tAmeeregatrivittata\n",
      "Iteration 8 - Cluster 1: \tLeptodactylidae \tAdenomera \tAdenomeraHylaedactylus\n",
      "Iteration 8 - Cluster 2: \tHylidae \tHypsiboas \tHypsiboasCordobae\n",
      "Iteration 8 - Cluster 3: \tHylidae \tHypsiboas \tHypsiboasCinerascens\n",
      "Iteration 9 - Cluster 0: \tHylidae \tHypsiboas \tHypsiboasCordobae\n",
      "Iteration 9 - Cluster 1: \tLeptodactylidae \tAdenomera \tAdenomeraHylaedactylus\n",
      "Iteration 9 - Cluster 2: \tDendrobatidae \tAmeerega \tAmeeregatrivittata\n",
      "Iteration 9 - Cluster 3: \tHylidae \tHypsiboas \tHypsiboasCinerascens\n",
      "Iteration 10 - Cluster 0: \tHylidae \tHypsiboas \tHypsiboasCordobae\n",
      "Iteration 10 - Cluster 1: \tLeptodactylidae \tAdenomera \tAdenomeraHylaedactylus\n",
      "Iteration 10 - Cluster 2: \tHylidae \tHypsiboas \tHypsiboasCinerascens\n",
      "Iteration 10 - Cluster 3: \tDendrobatidae \tAmeerega \tAmeeregatrivittata\n",
      "Iteration 11 - Cluster 0: \tLeptodactylidae \tAdenomera \tAdenomeraHylaedactylus\n",
      "Iteration 11 - Cluster 1: \tDendrobatidae \tAmeerega \tAmeeregatrivittata\n",
      "Iteration 11 - Cluster 2: \tHylidae \tHypsiboas \tHypsiboasCordobae\n",
      "Iteration 11 - Cluster 3: \tHylidae \tHypsiboas \tHypsiboasCinerascens\n",
      "Iteration 12 - Cluster 0: \tHylidae \tHypsiboas \tHypsiboasCordobae\n",
      "Iteration 12 - Cluster 1: \tLeptodactylidae \tAdenomera \tAdenomeraHylaedactylus\n",
      "Iteration 12 - Cluster 2: \tDendrobatidae \tAmeerega \tAmeeregatrivittata\n",
      "Iteration 12 - Cluster 3: \tHylidae \tHypsiboas \tHypsiboasCinerascens\n",
      "Iteration 13 - Cluster 0: \tDendrobatidae \tAmeerega \tAmeeregatrivittata\n",
      "Iteration 13 - Cluster 1: \tLeptodactylidae \tAdenomera \tAdenomeraHylaedactylus\n",
      "Iteration 13 - Cluster 2: \tHylidae \tHypsiboas \tHypsiboasCordobae\n",
      "Iteration 13 - Cluster 3: \tHylidae \tHypsiboas \tHypsiboasCinerascens\n",
      "Iteration 14 - Cluster 0: \tDendrobatidae \tAmeerega \tAmeeregatrivittata\n",
      "Iteration 14 - Cluster 1: \tHylidae \tHypsiboas \tHypsiboasCinerascens\n",
      "Iteration 14 - Cluster 2: \tLeptodactylidae \tAdenomera \tAdenomeraHylaedactylus\n",
      "Iteration 14 - Cluster 3: \tHylidae \tHypsiboas \tHypsiboasCordobae\n",
      "Iteration 15 - Cluster 0: \tLeptodactylidae \tAdenomera \tAdenomeraHylaedactylus\n",
      "Iteration 15 - Cluster 1: \tDendrobatidae \tAmeerega \tAmeeregatrivittata\n",
      "Iteration 15 - Cluster 2: \tHylidae \tHypsiboas \tHypsiboasCordobae\n",
      "Iteration 15 - Cluster 3: \tHylidae \tHypsiboas \tHypsiboasCinerascens\n",
      "Iteration 16 - Cluster 0: \tHylidae \tHypsiboas \tHypsiboasCordobae\n",
      "Iteration 16 - Cluster 1: \tLeptodactylidae \tAdenomera \tAdenomeraHylaedactylus\n",
      "Iteration 16 - Cluster 2: \tDendrobatidae \tAmeerega \tAmeeregatrivittata\n",
      "Iteration 16 - Cluster 3: \tHylidae \tHypsiboas \tHypsiboasCinerascens\n",
      "Iteration 17 - Cluster 0: \tDendrobatidae \tAmeerega \tAmeeregatrivittata\n",
      "Iteration 17 - Cluster 1: \tLeptodactylidae \tAdenomera \tAdenomeraHylaedactylus\n",
      "Iteration 17 - Cluster 2: \tHylidae \tHypsiboas \tHypsiboasCordobae\n",
      "Iteration 17 - Cluster 3: \tHylidae \tHypsiboas \tHypsiboasCinerascens\n",
      "Iteration 18 - Cluster 0: \tHylidae \tHypsiboas \tHypsiboasCordobae\n",
      "Iteration 18 - Cluster 1: \tLeptodactylidae \tAdenomera \tAdenomeraHylaedactylus\n",
      "Iteration 18 - Cluster 2: \tHylidae \tHypsiboas \tHypsiboasCinerascens\n",
      "Iteration 18 - Cluster 3: \tDendrobatidae \tAmeerega \tAmeeregatrivittata\n",
      "Iteration 19 - Cluster 0: \tDendrobatidae \tAmeerega \tAmeeregatrivittata\n",
      "Iteration 19 - Cluster 1: \tLeptodactylidae \tAdenomera \tAdenomeraHylaedactylus\n",
      "Iteration 19 - Cluster 2: \tHylidae \tHypsiboas \tHypsiboasCordobae\n",
      "Iteration 19 - Cluster 3: \tHylidae \tHypsiboas \tHypsiboasCinerascens\n",
      "Iteration 20 - Cluster 0: \tHylidae \tHypsiboas \tHypsiboasCordobae\n",
      "Iteration 20 - Cluster 1: \tLeptodactylidae \tAdenomera \tAdenomeraHylaedactylus\n",
      "Iteration 20 - Cluster 2: \tDendrobatidae \tAmeerega \tAmeeregatrivittata\n",
      "Iteration 20 - Cluster 3: \tHylidae \tHypsiboas \tHypsiboasCinerascens\n",
      "Iteration 21 - Cluster 0: \tDendrobatidae \tAmeerega \tAmeeregatrivittata\n",
      "Iteration 21 - Cluster 1: \tLeptodactylidae \tAdenomera \tAdenomeraHylaedactylus\n",
      "Iteration 21 - Cluster 2: \tHylidae \tHypsiboas \tHypsiboasCordobae\n",
      "Iteration 21 - Cluster 3: \tHylidae \tHypsiboas \tHypsiboasCinerascens\n",
      "Iteration 22 - Cluster 0: \tHylidae \tHypsiboas \tHypsiboasCordobae\n",
      "Iteration 22 - Cluster 1: \tLeptodactylidae \tAdenomera \tAdenomeraHylaedactylus\n",
      "Iteration 22 - Cluster 2: \tDendrobatidae \tAmeerega \tAmeeregatrivittata\n",
      "Iteration 22 - Cluster 3: \tHylidae \tHypsiboas \tHypsiboasCinerascens\n",
      "Iteration 23 - Cluster 0: \tLeptodactylidae \tAdenomera \tAdenomeraHylaedactylus\n",
      "Iteration 23 - Cluster 1: \tDendrobatidae \tAmeerega \tAmeeregatrivittata\n",
      "Iteration 23 - Cluster 2: \tHylidae \tHypsiboas \tHypsiboasCordobae\n",
      "Iteration 23 - Cluster 3: \tHylidae \tHypsiboas \tHypsiboasCinerascens\n",
      "Iteration 24 - Cluster 0: \tHylidae \tHypsiboas \tHypsiboasCordobae\n",
      "Iteration 24 - Cluster 1: \tLeptodactylidae \tAdenomera \tAdenomeraHylaedactylus\n",
      "Iteration 24 - Cluster 2: \tDendrobatidae \tAmeerega \tAmeeregatrivittata\n",
      "Iteration 24 - Cluster 3: \tHylidae \tHypsiboas \tHypsiboasCinerascens\n",
      "Iteration 25 - Cluster 0: \tLeptodactylidae \tAdenomera \tAdenomeraHylaedactylus\n",
      "Iteration 25 - Cluster 1: \tDendrobatidae \tAmeerega \tAmeeregatrivittata\n",
      "Iteration 25 - Cluster 2: \tHylidae \tHypsiboas \tHypsiboasCordobae\n",
      "Iteration 25 - Cluster 3: \tHylidae \tHypsiboas \tHypsiboasCinerascens\n",
      "Iteration 26 - Cluster 0: \tLeptodactylidae \tAdenomera \tAdenomeraHylaedactylus\n",
      "Iteration 26 - Cluster 1: \tHylidae \tHypsiboas \tHypsiboasCordobae\n",
      "Iteration 26 - Cluster 2: \tHylidae \tHypsiboas \tHypsiboasCinerascens\n",
      "Iteration 26 - Cluster 3: \tDendrobatidae \tAmeerega \tAmeeregatrivittata\n",
      "Iteration 27 - Cluster 0: \tLeptodactylidae \tAdenomera \tAdenomeraHylaedactylus\n",
      "Iteration 27 - Cluster 1: \tDendrobatidae \tAmeerega \tAmeeregatrivittata\n",
      "Iteration 27 - Cluster 2: \tHylidae \tHypsiboas \tHypsiboasCordobae\n",
      "Iteration 27 - Cluster 3: \tHylidae \tHypsiboas \tHypsiboasCinerascens\n",
      "Iteration 28 - Cluster 0: \tLeptodactylidae \tAdenomera \tAdenomeraHylaedactylus\n",
      "Iteration 28 - Cluster 1: \tHylidae \tHypsiboas \tHypsiboasCinerascens\n",
      "Iteration 28 - Cluster 2: \tDendrobatidae \tAmeerega \tAmeeregatrivittata\n",
      "Iteration 28 - Cluster 3: \tHylidae \tHypsiboas \tHypsiboasCordobae\n",
      "Iteration 29 - Cluster 0: \tLeptodactylidae \tAdenomera \tAdenomeraHylaedactylus\n",
      "Iteration 29 - Cluster 1: \tHylidae \tHypsiboas \tHypsiboasCordobae\n",
      "Iteration 29 - Cluster 2: \tHylidae \tHypsiboas \tHypsiboasCinerascens\n",
      "Iteration 29 - Cluster 3: \tDendrobatidae \tAmeerega \tAmeeregatrivittata\n",
      "Iteration 30 - Cluster 0: \tLeptodactylidae \tAdenomera \tAdenomeraHylaedactylus\n",
      "Iteration 30 - Cluster 1: \tDendrobatidae \tAmeerega \tAmeeregatrivittata\n",
      "Iteration 30 - Cluster 2: \tHylidae \tHypsiboas \tHypsiboasCordobae\n",
      "Iteration 30 - Cluster 3: \tHylidae \tHypsiboas \tHypsiboasCinerascens\n"
     ]
    },
    {
     "name": "stdout",
     "output_type": "stream",
     "text": [
      "Iteration 31 - Cluster 0: \tHylidae \tHypsiboas \tHypsiboasCordobae\n",
      "Iteration 31 - Cluster 1: \tLeptodactylidae \tAdenomera \tAdenomeraHylaedactylus\n",
      "Iteration 31 - Cluster 2: \tDendrobatidae \tAmeerega \tAmeeregatrivittata\n",
      "Iteration 31 - Cluster 3: \tHylidae \tHypsiboas \tHypsiboasCinerascens\n",
      "Iteration 32 - Cluster 0: \tDendrobatidae \tAmeerega \tAmeeregatrivittata\n",
      "Iteration 32 - Cluster 1: \tLeptodactylidae \tAdenomera \tAdenomeraHylaedactylus\n",
      "Iteration 32 - Cluster 2: \tHylidae \tHypsiboas \tHypsiboasCordobae\n",
      "Iteration 32 - Cluster 3: \tHylidae \tHypsiboas \tHypsiboasCinerascens\n",
      "Iteration 33 - Cluster 0: \tLeptodactylidae \tAdenomera \tAdenomeraHylaedactylus\n",
      "Iteration 33 - Cluster 1: \tHylidae \tHypsiboas \tHypsiboasCordobae\n",
      "Iteration 33 - Cluster 2: \tDendrobatidae \tAmeerega \tAmeeregatrivittata\n",
      "Iteration 33 - Cluster 3: \tHylidae \tHypsiboas \tHypsiboasCinerascens\n",
      "Iteration 34 - Cluster 0: \tLeptodactylidae \tAdenomera \tAdenomeraHylaedactylus\n",
      "Iteration 34 - Cluster 1: \tHylidae \tHypsiboas \tHypsiboasCordobae\n",
      "Iteration 34 - Cluster 2: \tHylidae \tHypsiboas \tHypsiboasCinerascens\n",
      "Iteration 34 - Cluster 3: \tDendrobatidae \tAmeerega \tAmeeregatrivittata\n",
      "Iteration 35 - Cluster 0: \tLeptodactylidae \tAdenomera \tAdenomeraHylaedactylus\n",
      "Iteration 35 - Cluster 1: \tDendrobatidae \tAmeerega \tAmeeregatrivittata\n",
      "Iteration 35 - Cluster 2: \tHylidae \tHypsiboas \tHypsiboasCordobae\n",
      "Iteration 35 - Cluster 3: \tHylidae \tHypsiboas \tHypsiboasCinerascens\n",
      "Iteration 36 - Cluster 0: \tLeptodactylidae \tAdenomera \tAdenomeraHylaedactylus\n",
      "Iteration 36 - Cluster 1: \tHylidae \tHypsiboas \tHypsiboasCordobae\n",
      "Iteration 36 - Cluster 2: \tHylidae \tHypsiboas \tHypsiboasCinerascens\n",
      "Iteration 36 - Cluster 3: \tDendrobatidae \tAmeerega \tAmeeregatrivittata\n",
      "Iteration 37 - Cluster 0: \tLeptodactylidae \tAdenomera \tAdenomeraHylaedactylus\n",
      "Iteration 37 - Cluster 1: \tDendrobatidae \tAmeerega \tAmeeregatrivittata\n",
      "Iteration 37 - Cluster 2: \tHylidae \tHypsiboas \tHypsiboasCordobae\n",
      "Iteration 37 - Cluster 3: \tHylidae \tHypsiboas \tHypsiboasCinerascens\n",
      "Iteration 38 - Cluster 0: \tHylidae \tHypsiboas \tHypsiboasCordobae\n",
      "Iteration 38 - Cluster 1: \tLeptodactylidae \tAdenomera \tAdenomeraHylaedactylus\n",
      "Iteration 38 - Cluster 2: \tDendrobatidae \tAmeerega \tAmeeregatrivittata\n",
      "Iteration 38 - Cluster 3: \tHylidae \tHypsiboas \tHypsiboasCinerascens\n",
      "Iteration 39 - Cluster 0: \tHylidae \tHypsiboas \tHypsiboasCordobae\n",
      "Iteration 39 - Cluster 1: \tLeptodactylidae \tAdenomera \tAdenomeraHylaedactylus\n",
      "Iteration 39 - Cluster 2: \tHylidae \tHypsiboas \tHypsiboasCinerascens\n",
      "Iteration 39 - Cluster 3: \tDendrobatidae \tAmeerega \tAmeeregatrivittata\n",
      "Iteration 40 - Cluster 0: \tLeptodactylidae \tAdenomera \tAdenomeraHylaedactylus\n",
      "Iteration 40 - Cluster 1: \tHylidae \tHypsiboas \tHypsiboasCinerascens\n",
      "Iteration 40 - Cluster 2: \tHylidae \tHypsiboas \tHypsiboasCordobae\n",
      "Iteration 40 - Cluster 3: \tDendrobatidae \tAmeerega \tAmeeregatrivittata\n",
      "Iteration 41 - Cluster 0: \tLeptodactylidae \tAdenomera \tAdenomeraHylaedactylus\n",
      "Iteration 41 - Cluster 1: \tHylidae \tHypsiboas \tHypsiboasCordobae\n",
      "Iteration 41 - Cluster 2: \tDendrobatidae \tAmeerega \tAmeeregatrivittata\n",
      "Iteration 41 - Cluster 3: \tHylidae \tHypsiboas \tHypsiboasCinerascens\n",
      "Iteration 42 - Cluster 0: \tHylidae \tHypsiboas \tHypsiboasCinerascens\n",
      "Iteration 42 - Cluster 1: \tLeptodactylidae \tAdenomera \tAdenomeraHylaedactylus\n",
      "Iteration 42 - Cluster 2: \tDendrobatidae \tAmeerega \tAmeeregatrivittata\n",
      "Iteration 42 - Cluster 3: \tHylidae \tHypsiboas \tHypsiboasCordobae\n",
      "Iteration 43 - Cluster 0: \tHylidae \tHypsiboas \tHypsiboasCordobae\n",
      "Iteration 43 - Cluster 1: \tLeptodactylidae \tAdenomera \tAdenomeraHylaedactylus\n",
      "Iteration 43 - Cluster 2: \tDendrobatidae \tAmeerega \tAmeeregatrivittata\n",
      "Iteration 43 - Cluster 3: \tHylidae \tHypsiboas \tHypsiboasCinerascens\n",
      "Iteration 44 - Cluster 0: \tHylidae \tHypsiboas \tHypsiboasCordobae\n",
      "Iteration 44 - Cluster 1: \tLeptodactylidae \tAdenomera \tAdenomeraHylaedactylus\n",
      "Iteration 44 - Cluster 2: \tDendrobatidae \tAmeerega \tAmeeregatrivittata\n",
      "Iteration 44 - Cluster 3: \tHylidae \tHypsiboas \tHypsiboasCinerascens\n",
      "Iteration 45 - Cluster 0: \tHylidae \tHypsiboas \tHypsiboasCordobae\n",
      "Iteration 45 - Cluster 1: \tDendrobatidae \tAmeerega \tAmeeregatrivittata\n",
      "Iteration 45 - Cluster 2: \tLeptodactylidae \tAdenomera \tAdenomeraHylaedactylus\n",
      "Iteration 45 - Cluster 3: \tHylidae \tHypsiboas \tHypsiboasCinerascens\n",
      "Iteration 46 - Cluster 0: \tLeptodactylidae \tAdenomera \tAdenomeraHylaedactylus\n",
      "Iteration 46 - Cluster 1: \tDendrobatidae \tAmeerega \tAmeeregatrivittata\n",
      "Iteration 46 - Cluster 2: \tHylidae \tHypsiboas \tHypsiboasCordobae\n",
      "Iteration 46 - Cluster 3: \tHylidae \tHypsiboas \tHypsiboasCinerascens\n",
      "Iteration 47 - Cluster 0: \tHylidae \tHypsiboas \tHypsiboasCordobae\n",
      "Iteration 47 - Cluster 1: \tLeptodactylidae \tAdenomera \tAdenomeraHylaedactylus\n",
      "Iteration 47 - Cluster 2: \tDendrobatidae \tAmeerega \tAmeeregatrivittata\n",
      "Iteration 47 - Cluster 3: \tHylidae \tHypsiboas \tHypsiboasCinerascens\n",
      "Iteration 48 - Cluster 0: \tHylidae \tHypsiboas \tHypsiboasCordobae\n",
      "Iteration 48 - Cluster 1: \tDendrobatidae \tAmeerega \tAmeeregatrivittata\n",
      "Iteration 48 - Cluster 2: \tLeptodactylidae \tAdenomera \tAdenomeraHylaedactylus\n",
      "Iteration 48 - Cluster 3: \tHylidae \tHypsiboas \tHypsiboasCinerascens\n",
      "Iteration 49 - Cluster 0: \tHylidae \tHypsiboas \tHypsiboasCordobae\n",
      "Iteration 49 - Cluster 1: \tDendrobatidae \tAmeerega \tAmeeregatrivittata\n",
      "Iteration 49 - Cluster 2: \tLeptodactylidae \tAdenomera \tAdenomeraHylaedactylus\n",
      "Iteration 49 - Cluster 3: \tHylidae \tHypsiboas \tHypsiboasCinerascens\n",
      "Iteration 50 - Cluster 0: \tLeptodactylidae \tAdenomera \tAdenomeraHylaedactylus\n",
      "Iteration 50 - Cluster 1: \tHylidae \tHypsiboas \tHypsiboasCordobae\n",
      "Iteration 50 - Cluster 2: \tHylidae \tHypsiboas \tHypsiboasCinerascens\n",
      "Iteration 50 - Cluster 3: \tDendrobatidae \tAmeerega \tAmeeregatrivittata\n"
     ]
    }
   ],
   "source": [
    "print('Iteration # - Cluster ID: \\tFamily \\t\\tGenus \\t\\tSpecies \\n')\n",
    "\n",
    "for iter in range(1,51):\n",
    "    # Adding cluster number as a column to the dataframe\n",
    "    kmeans_model_c4 = KMeans(n_clusters=4)\n",
    "    kmeans_model_c4.fit(frogs_data_kmeans)\n",
    "    cluster_labels_c4 = kmeans_model_c4.labels_\n",
    "    frogs_data_kmeans['cluster'] = cluster_labels_c4\n",
    "    \n",
    "    for i in range(0,4):\n",
    "        label = []\n",
    "\n",
    "        for j in ['Family','Genus','Species']:    \n",
    "            index_cluster = frogs_data_kmeans[frogs_data_kmeans['cluster'] == i].index\n",
    "            temp = pd.DataFrame(frogs_data[j].filter(items = index_cluster, axis=0).value_counts().head(1)).reset_index()\n",
    "            label.append(temp.iloc[0][0])\n",
    "            \n",
    "            \n",
    "        print(f'Iteration {iter} - Cluster {i}: \\t{label[0]} \\t{label[1]} \\t{label[2]}')\n",
    "    frogs_data_kmeans.drop(['cluster'], axis=1)\n"
   ]
  },
  {
   "cell_type": "markdown",
   "id": "2e5f186f",
   "metadata": {},
   "source": [
    "### (c) Now for each cluster you have a majority label triplet (family, genus, species). Calculate the average Hamming distance, Hamming score, and Hamming loss between the true labels and the labels assigned by clusters."
   ]
  },
  {
   "cell_type": "code",
   "execution_count": 274,
   "id": "b14d5715",
   "metadata": {
    "scrolled": true
   },
   "outputs": [
    {
     "name": "stdout",
     "output_type": "stream",
     "text": [
      "Iteration #: \tHamming Loss \tHamming Score\n",
      "Iteration 1: \t0.2224 \t\t0.7776\n",
      "Iteration 2: \t0.2224 \t\t0.7776\n",
      "Iteration 3: \t0.2224 \t\t0.7776\n",
      "Iteration 4: \t0.2224 \t\t0.7776\n",
      "Iteration 5: \t0.2224 \t\t0.7776\n",
      "Iteration 6: \t0.2224 \t\t0.7776\n",
      "Iteration 7: \t0.2224 \t\t0.7776\n",
      "Iteration 8: \t0.2224 \t\t0.7776\n",
      "Iteration 9: \t0.2224 \t\t0.7776\n",
      "Iteration 10: \t0.2224 \t\t0.7776\n",
      "Iteration 11: \t0.2224 \t\t0.7776\n",
      "Iteration 12: \t0.2224 \t\t0.7776\n",
      "Iteration 13: \t0.2224 \t\t0.7776\n",
      "Iteration 14: \t0.2224 \t\t0.7776\n",
      "Iteration 15: \t0.2224 \t\t0.7776\n",
      "Iteration 16: \t0.2224 \t\t0.7776\n",
      "Iteration 17: \t0.2224 \t\t0.7776\n",
      "Iteration 18: \t0.2224 \t\t0.7776\n",
      "Iteration 19: \t0.2224 \t\t0.7776\n",
      "Iteration 20: \t0.2224 \t\t0.7776\n",
      "Iteration 21: \t0.2224 \t\t0.7776\n",
      "Iteration 22: \t0.2224 \t\t0.7776\n",
      "Iteration 23: \t0.2224 \t\t0.7776\n",
      "Iteration 24: \t0.2224 \t\t0.7776\n",
      "Iteration 25: \t0.2224 \t\t0.7776\n",
      "Iteration 26: \t0.2224 \t\t0.7776\n",
      "Iteration 27: \t0.2224 \t\t0.7776\n",
      "Iteration 28: \t0.2224 \t\t0.7776\n",
      "Iteration 29: \t0.2224 \t\t0.7776\n",
      "Iteration 30: \t0.2224 \t\t0.7776\n",
      "Iteration 31: \t0.2224 \t\t0.7776\n",
      "Iteration 32: \t0.2224 \t\t0.7776\n",
      "Iteration 33: \t0.2224 \t\t0.7776\n",
      "Iteration 34: \t0.2224 \t\t0.7776\n",
      "Iteration 35: \t0.2224 \t\t0.7776\n",
      "Iteration 36: \t0.2224 \t\t0.7776\n",
      "Iteration 37: \t0.2224 \t\t0.7776\n",
      "Iteration 38: \t0.2224 \t\t0.7776\n",
      "Iteration 39: \t0.2224 \t\t0.7776\n",
      "Iteration 40: \t0.2224 \t\t0.7776\n",
      "Iteration 41: \t0.2224 \t\t0.7776\n",
      "Iteration 42: \t0.2224 \t\t0.7776\n",
      "Iteration 43: \t0.2224 \t\t0.7776\n",
      "Iteration 44: \t0.2224 \t\t0.7776\n",
      "Iteration 45: \t0.2224 \t\t0.7776\n",
      "Iteration 46: \t0.2224 \t\t0.7776\n",
      "Iteration 47: \t0.2224 \t\t0.7776\n",
      "Iteration 48: \t0.2224 \t\t0.7776\n",
      "Iteration 49: \t0.2224 \t\t0.7776\n",
      "Iteration 50: \t0.2224 \t\t0.7776\n"
     ]
    }
   ],
   "source": [
    "frogs_data_kmeans['cluster'] = 0\n",
    "frogs_data_mc['cluster'] = 0\n",
    "\n",
    "hamming_loss_list = []\n",
    "hamming_score_list = []\n",
    "\n",
    "print('Iteration #: \\tHamming Loss \\tHamming Score')\n",
    "for iter in range(1,51):\n",
    "    \n",
    "    family_list = []\n",
    "    genus_list = []\n",
    "    species_list = []\n",
    "    cluster_list = []\n",
    "    \n",
    "    frogs_data_kmeans.drop(['cluster'], axis=1)\n",
    "    frogs_data_mc.drop(['cluster'], axis=1)\n",
    "    \n",
    "    # Adding cluster number as a column to the dataframe\n",
    "    kmeans_model_c4 = KMeans(n_clusters=4)\n",
    "    kmeans_model_c4.fit(frogs_data_kmeans)\n",
    "    cluster_labels_c4 = kmeans_model_c4.labels_\n",
    "    frogs_data_kmeans['cluster'] = cluster_labels_c4\n",
    "    frogs_data_mc['cluster'] = cluster_labels_c4\n",
    "    \n",
    "    for i in range(0,4):\n",
    "        label = []\n",
    "        cluster_list.append(i)\n",
    "        \n",
    "        for j in ['Family','Genus','Species']:    \n",
    "            index_cluster = frogs_data_kmeans[frogs_data_kmeans['cluster'] == i].index\n",
    "            temp = pd.DataFrame(frogs_data[j].filter(items = index_cluster, axis=0).value_counts().head(1)).reset_index()\n",
    "            label.append(temp.iloc[0][0])\n",
    "            \n",
    "            if j == 'Family':\n",
    "                family_list.append(temp.iloc[0][0])\n",
    "            elif j == 'Genus':\n",
    "                genus_list.append(temp.iloc[0][0])\n",
    "            else:\n",
    "                species_list.append(temp.iloc[0][0])\n",
    "                \n",
    "    iter1 = pd.DataFrame()\n",
    "    iter1['family_pred'] = family_list\n",
    "    iter1['genus_pred'] = genus_list\n",
    "    iter1['species_pred'] = species_list\n",
    "    iter1['cluster_pred'] = cluster_list\n",
    "\n",
    "    frogs_hamming = frogs_data_mc.merge(iter1, how='inner', left_on='cluster', right_on='cluster_pred')\n",
    "    \n",
    "    hamming_loss_f = hamming_loss(frogs_hamming['family_pred'], frogs_hamming['Family'])\n",
    "    hamming_loss_g = hamming_loss(frogs_hamming['genus_pred'], frogs_hamming['Genus'])\n",
    "    hamming_loss_s = hamming_loss(frogs_hamming['species_pred'], frogs_hamming['Species'])\n",
    "    \n",
    "    hamming_score_f = accuracy_score(frogs_hamming['family_pred'], frogs_hamming['Family'])\n",
    "    hamming_score_g = accuracy_score(frogs_hamming['genus_pred'], frogs_hamming['Genus'])\n",
    "    hamming_score_s = accuracy_score(frogs_hamming['species_pred'], frogs_hamming['Species'])\n",
    "    \n",
    "    hamming_loss_avg = round((hamming_loss_f + hamming_loss_g + hamming_loss_s)/3,4)\n",
    "    hamming_score_avg = round((hamming_score_f + hamming_score_g + hamming_score_s)/3,4)\n",
    "\n",
    "    hamming_loss_list.append(hamming_loss_avg)\n",
    "    hamming_score_list.append(hamming_score_avg)\n",
    "    \n",
    "    \n",
    "    print(f'Iteration {iter}: \\t{hamming_loss_avg} \\t\\t{hamming_score_avg}')\n",
    "    "
   ]
  },
  {
   "cell_type": "markdown",
   "id": "00722f79",
   "metadata": {},
   "source": [
    "#### Summary\n",
    "\n",
    "From the above, we can see that -\n",
    "1. Mean/Average hamming loss: 0.2224\n",
    "2. Mean/Average hamming distance: 0.7776\n",
    "3. Standard deviation of hamming loss: 0\n",
    "4. Standard deviation of hamming loss: 0"
   ]
  },
  {
   "cell_type": "markdown",
   "id": "b316bd45",
   "metadata": {},
   "source": [
    "### Sources"
   ]
  },
  {
   "cell_type": "markdown",
   "id": "4872f8a1",
   "metadata": {},
   "source": [
    "1. https://www.analyticsvidhya.com/blog/2021/05/k-mean-getting-the-optimal-number-of-clusters/\n",
    "2. https://scikit-learn.org/stable/modules/generated/sklearn.cluster.KMeans.html"
   ]
  },
  {
   "cell_type": "markdown",
   "id": "23a685c4",
   "metadata": {},
   "source": [
    "## ISLR 12.6.2"
   ]
  },
  {
   "cell_type": "markdown",
   "id": "e4c7a96c",
   "metadata": {},
   "source": [
    "#### I have attached the pdf with the solution to this question in the data folder as well."
   ]
  },
  {
   "cell_type": "code",
   "execution_count": 8,
   "id": "bdb870d1",
   "metadata": {},
   "outputs": [
    {
     "data": {
      "text/html": [
       "\n",
       "        <iframe\n",
       "            width=\"800\"\n",
       "            height=\"400\"\n",
       "            src=\"../data/HW_7_islr.pdf\"\n",
       "            frameborder=\"0\"\n",
       "            allowfullscreen\n",
       "        ></iframe>\n",
       "        "
      ],
      "text/plain": [
       "<IPython.lib.display.IFrame at 0x7fbfb863b520>"
      ]
     },
     "execution_count": 8,
     "metadata": {},
     "output_type": "execute_result"
    }
   ],
   "source": [
    "from IPython.display import IFrame\n",
    "IFrame(\"../data/HW_7_islr.pdf\", width=800, height=400)"
   ]
  },
  {
   "cell_type": "code",
   "execution_count": null,
   "id": "dea5e9c8",
   "metadata": {},
   "outputs": [],
   "source": []
  }
 ],
 "metadata": {
  "kernelspec": {
   "display_name": "Python 3",
   "language": "python",
   "name": "python3"
  },
  "language_info": {
   "codemirror_mode": {
    "name": "ipython",
    "version": 3
   },
   "file_extension": ".py",
   "mimetype": "text/x-python",
   "name": "python",
   "nbconvert_exporter": "python",
   "pygments_lexer": "ipython3",
   "version": "3.8.8"
  }
 },
 "nbformat": 4,
 "nbformat_minor": 5
}
